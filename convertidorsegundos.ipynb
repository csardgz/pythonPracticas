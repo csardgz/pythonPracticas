{
 "cells": [
  {
   "cell_type": "code",
   "execution_count": null,
   "metadata": {},
   "outputs": [],
   "source": [
    "seconds = int(input('segundos: '))\n",
    "\n",
    "outime = [0,0,0,0,0]    #years, days, hours, minutes, seconds\n",
    "const = [365*24*60*60,24*60*60,60*60,60,1]\n",
    "constsrt = ['años','dias','horas','minutos','segundos']\n",
    "k = 0\n",
    "out_ = 'now'\n",
    "\n",
    "if seconds != 0:\n",
    "    out_ = ''\n",
    "    for i in range(5):\n",
    "        outime[i] = (seconds) // const[i]\n",
    "        seconds -=  outime[i]*const[i]\n",
    "        \n",
    "    for j in range(5):\n",
    "        if outime[j] != 0:\n",
    "            out_ += str(outime[j]) + ' ' + constsrt[j] + ' , '\n",
    "\n",
    "print(out_)\n",
    "#ahora sin salidas activas"
   ]
  }
 ],
 "metadata": {
  "kernelspec": {
   "display_name": "Python 3",
   "language": "python",
   "name": "python3"
  },
  "language_info": {
   "codemirror_mode": {
    "name": "ipython",
    "version": 3
   },
   "file_extension": ".py",
   "mimetype": "text/x-python",
   "name": "python",
   "nbconvert_exporter": "python",
   "pygments_lexer": "ipython3",
   "version": "3.11.2"
  }
 },
 "nbformat": 4,
 "nbformat_minor": 2
}
