{
 "cells": [
  {
   "cell_type": "code",
   "execution_count": 2,
   "metadata": {},
   "outputs": [],
   "source": [
    "import time"
   ]
  },
  {
   "cell_type": "code",
   "execution_count": 3,
   "metadata": {},
   "outputs": [
    {
     "name": "stdout",
     "output_type": "stream",
     "text": [
      "2 dias, 21 horas, 45 minutos, 10 segundos\n",
      "0.0\n"
     ]
    }
   ],
   "source": [
    "outime = [0,0,0,0,0]    #years, days, hours, minutes, seconds\n",
    "const = [365*24*60*60,24*60*60,60*60,60,1]\n",
    "constsrt = ['años, ','dias, ','horas, ','minutos, ','segundos']\n",
    "k = 0\n",
    "out_ = 'now'\n",
    "\n",
    "\n",
    "seconds = int(input('segundos: '))\n",
    "start = time.time()\n",
    "if seconds != 0:\n",
    "    out_ = ''\n",
    "    for i in range(5):\n",
    "        outime[i] = (seconds) // const[i]\n",
    "        seconds -=  outime[i]*const[i]\n",
    "        \n",
    "    for j in range(5):\n",
    "        if outime[j] != 0:\n",
    "            out_ += str(outime[j]) + ' ' + constsrt[j]\n",
    "\n",
    "\n",
    "end = time.time()\n",
    "\n",
    "print(out_)\n",
    "print(end-start)\n",
    "#ahora sin salidas activas"
   ]
  },
  {
   "cell_type": "code",
   "execution_count": null,
   "metadata": {},
   "outputs": [],
   "source": []
  },
  {
   "cell_type": "code",
   "execution_count": null,
   "metadata": {},
   "outputs": [],
   "source": []
  }
 ],
 "metadata": {
  "kernelspec": {
   "display_name": "Python 3",
   "language": "python",
   "name": "python3"
  },
  "language_info": {
   "codemirror_mode": {
    "name": "ipython",
    "version": 3
   },
   "file_extension": ".py",
   "mimetype": "text/x-python",
   "name": "python",
   "nbconvert_exporter": "python",
   "pygments_lexer": "ipython3",
   "version": "3.11.2"
  }
 },
 "nbformat": 4,
 "nbformat_minor": 2
}
